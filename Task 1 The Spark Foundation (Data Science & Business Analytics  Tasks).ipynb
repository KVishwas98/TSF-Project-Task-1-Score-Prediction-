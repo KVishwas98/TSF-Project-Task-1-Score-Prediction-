{
 "cells": [
  {
   "cell_type": "markdown",
   "id": "6d0c652e",
   "metadata": {},
   "source": [
    "## Name: Vishwas Sunil Kshirsagar\n",
    "\n",
    "\n",
    "## Task 1: Prediction using Supervised ML\n"
   ]
  },
  {
   "cell_type": "markdown",
   "id": "8dded37e",
   "metadata": {},
   "source": [
    "### Problem Statement:  Predict the percentage of an student based on the no. of study hours.\n"
   ]
  },
  {
   "cell_type": "markdown",
   "id": "352861f9",
   "metadata": {},
   "source": [
    " "
   ]
  },
  {
   "cell_type": "markdown",
   "id": "d6dea43c",
   "metadata": {},
   "source": [
    "This task requires Python Scikit-Learn library to perform machine learning regression function. Which will help to infer student's marks based on their hours of study."
   ]
  },
  {
   "cell_type": "markdown",
   "id": "e7ad8635",
   "metadata": {},
   "source": [
    " "
   ]
  },
  {
   "cell_type": "code",
   "execution_count": 1,
   "id": "4d8daf13",
   "metadata": {},
   "outputs": [],
   "source": [
    "# Importing all the neccessary libraries\n",
    "\n",
    "import pandas as pd  # to analyze data\n",
    "import numpy as np  # to perform a wide variety of mathematical operations on arrays\n",
    "import matplotlib.pyplot as plt # to perform data visualization and graphical plotting\n",
    "%matplotlib inline\n",
    "from sklearn.model_selection import * # returns all the functions from model_selection\n",
    "from sklearn.linear_model import LinearRegression # to perform linear regression\n",
    "from sklearn import metrics # to evaluate resuls"
   ]
  },
  {
   "cell_type": "markdown",
   "id": "dac2513b",
   "metadata": {},
   "source": [
    "## First Step: Read the data from the URL"
   ]
  },
  {
   "cell_type": "code",
   "execution_count": 2,
   "id": "ffa16cb7",
   "metadata": {},
   "outputs": [
    {
     "name": "stdout",
     "output_type": "stream",
     "text": [
      "Data Successfully Imported\n"
     ]
    },
    {
     "data": {
      "text/html": [
       "<div>\n",
       "<style scoped>\n",
       "    .dataframe tbody tr th:only-of-type {\n",
       "        vertical-align: middle;\n",
       "    }\n",
       "\n",
       "    .dataframe tbody tr th {\n",
       "        vertical-align: top;\n",
       "    }\n",
       "\n",
       "    .dataframe thead th {\n",
       "        text-align: right;\n",
       "    }\n",
       "</style>\n",
       "<table border=\"1\" class=\"dataframe\">\n",
       "  <thead>\n",
       "    <tr style=\"text-align: right;\">\n",
       "      <th></th>\n",
       "      <th>Hours</th>\n",
       "      <th>Scores</th>\n",
       "    </tr>\n",
       "  </thead>\n",
       "  <tbody>\n",
       "    <tr>\n",
       "      <th>0</th>\n",
       "      <td>2.5</td>\n",
       "      <td>21</td>\n",
       "    </tr>\n",
       "    <tr>\n",
       "      <th>1</th>\n",
       "      <td>5.1</td>\n",
       "      <td>47</td>\n",
       "    </tr>\n",
       "    <tr>\n",
       "      <th>2</th>\n",
       "      <td>3.2</td>\n",
       "      <td>27</td>\n",
       "    </tr>\n",
       "    <tr>\n",
       "      <th>3</th>\n",
       "      <td>8.5</td>\n",
       "      <td>75</td>\n",
       "    </tr>\n",
       "    <tr>\n",
       "      <th>4</th>\n",
       "      <td>3.5</td>\n",
       "      <td>30</td>\n",
       "    </tr>\n",
       "    <tr>\n",
       "      <th>5</th>\n",
       "      <td>1.5</td>\n",
       "      <td>20</td>\n",
       "    </tr>\n",
       "    <tr>\n",
       "      <th>6</th>\n",
       "      <td>9.2</td>\n",
       "      <td>88</td>\n",
       "    </tr>\n",
       "    <tr>\n",
       "      <th>7</th>\n",
       "      <td>5.5</td>\n",
       "      <td>60</td>\n",
       "    </tr>\n",
       "    <tr>\n",
       "      <th>8</th>\n",
       "      <td>8.3</td>\n",
       "      <td>81</td>\n",
       "    </tr>\n",
       "    <tr>\n",
       "      <th>9</th>\n",
       "      <td>2.7</td>\n",
       "      <td>25</td>\n",
       "    </tr>\n",
       "  </tbody>\n",
       "</table>\n",
       "</div>"
      ],
      "text/plain": [
       "   Hours  Scores\n",
       "0    2.5      21\n",
       "1    5.1      47\n",
       "2    3.2      27\n",
       "3    8.5      75\n",
       "4    3.5      30\n",
       "5    1.5      20\n",
       "6    9.2      88\n",
       "7    5.5      60\n",
       "8    8.3      81\n",
       "9    2.7      25"
      ]
     },
     "execution_count": 2,
     "metadata": {},
     "output_type": "execute_result"
    }
   ],
   "source": [
    "dataURL = \"https://raw.githubusercontent.com/AdiPersonalWorks/Random/master/student_scores%20-%20student_scores.csv\"\n",
    "student_data = pd.read_csv(dataURL)\n",
    "print(\"Data Successfully Imported\")\n",
    "\n",
    "#Print first 10 records\n",
    "student_data.head(10)"
   ]
  },
  {
   "cell_type": "markdown",
   "id": "7426f9fc",
   "metadata": {},
   "source": [
    "## Second Step: Visulization view for the input data"
   ]
  },
  {
   "cell_type": "code",
   "execution_count": 3,
   "id": "bdbba6e8",
   "metadata": {},
   "outputs": [
    {
     "data": {
      "image/png": "[encoded data removed]",
      "text/plain": [
       "<Figure size 432x288 with 1 Axes>"
      ]
     },
     "metadata": {
      "needs_background": "light"
     },
     "output_type": "display_data"
    }
   ],
   "source": [
    "# plotting the scores to understand scores\n",
    "\n",
    "student_data.plot(x=\"Hours\", y=\"Scores\", style=\"o\")\n",
    "plt.title(\"Hours vs Score\")\n",
    "plt.xlabel(\"Hours Studied\")\n",
    "plt.ylabel(\"Score\")\n",
    "\n",
    "#print the results\n",
    "plt.show()"
   ]
  },
  {
   "cell_type": "markdown",
   "id": "906700ec",
   "metadata": {},
   "source": [
    "### With the above drawn graph we can interpret that there is a linear relation between the scores and the hours of studied."
   ]
  },
  {
   "cell_type": "markdown",
   "id": "f0283309",
   "metadata": {},
   "source": [
    "## Third Step: Data Preprocessing"
   ]
  },
  {
   "cell_type": "code",
   "execution_count": 4,
   "id": "ff09258f",
   "metadata": {},
   "outputs": [],
   "source": [
    "# Separating data into 'x' as a independent variable and 'y' as dependent.\n",
    "\n",
    "x = student_data.iloc[:, :-1].values\n",
    "y = student_data.iloc[:, 1].values"
   ]
  },
  {
   "cell_type": "markdown",
   "id": "85e2ba41",
   "metadata": {},
   "source": [
    "## Forth Step: Train the Model"
   ]
  },
  {
   "cell_type": "code",
   "execution_count": 5,
   "id": "3226db1d",
   "metadata": {},
   "outputs": [
    {
     "name": "stdout",
     "output_type": "stream",
     "text": [
      "Training completed Successfully.\n"
     ]
    }
   ],
   "source": [
    "# splitting the data into 'Train' and 'Test'\n",
    "x_train, x_test, y_train, y_test = train_test_split(x,y , test_size = 0.2, random_state = 420)\n",
    "reg_df = LinearRegression()\n",
    "\n",
    "# fitting the model\n",
    "reg_df.fit(x_train.reshape(-1,1), y_train)\n",
    "\n",
    "print(\"Training completed Successfully.\")"
   ]
  },
  {
   "cell_type": "markdown",
   "id": "598dcbf3",
   "metadata": {},
   "source": [
    "## Fifth Step: Plotting the linear regression line"
   ]
  },
  {
   "cell_type": "code",
   "execution_count": 7,
   "id": "f93cf689",
   "metadata": {},
   "outputs": [
    {
     "data": {
      "image/png": "[encoded data removed]",
      "text/plain": [
       "<Figure size 432x288 with 1 Axes>"
      ]
     },
     "metadata": {
      "needs_background": "light"
     },
     "output_type": "display_data"
    }
   ],
   "source": [
    "line = reg_df.coef_*x+reg_df.intercept_\n",
    "plt.scatter(x,y)\n",
    "plt.plot(x, line, color=\"yellow\")\n",
    "plt.show()"
   ]
  },
  {
   "cell_type": "markdown",
   "id": "e230893f",
   "metadata": {},
   "source": [
    "## Sixth Step: Drawing the Prediction"
   ]
  },
  {
   "cell_type": "markdown",
   "id": "cf3f3994",
   "metadata": {},
   "source": [
    "To check model performance will test the results"
   ]
  },
  {
   "cell_type": "code",
   "execution_count": 8,
   "id": "f8e8bc59",
   "metadata": {},
   "outputs": [
    {
     "name": "stdout",
     "output_type": "stream",
     "text": [
      "[[4.8]\n",
      " [5.1]\n",
      " [3.2]\n",
      " [5.5]\n",
      " [7.8]]\n"
     ]
    }
   ],
   "source": [
    "print(x_test)\n",
    "\n",
    "# model prediction\n",
    "y_pred = reg_df.predict(x_test)"
   ]
  },
  {
   "cell_type": "markdown",
   "id": "22e69904",
   "metadata": {},
   "source": [
    "## Seventh Step: Compare the actual results with the predicted ones"
   ]
  },
  {
   "cell_type": "code",
   "execution_count": 10,
   "id": "e9a26f6f",
   "metadata": {},
   "outputs": [
    {
     "data": {
      "text/html": [
       "<div>\n",
       "<style scoped>\n",
       "    .dataframe tbody tr th:only-of-type {\n",
       "        vertical-align: middle;\n",
       "    }\n",
       "\n",
       "    .dataframe tbody tr th {\n",
       "        vertical-align: top;\n",
       "    }\n",
       "\n",
       "    .dataframe thead th {\n",
       "        text-align: right;\n",
       "    }\n",
       "</style>\n",
       "<table border=\"1\" class=\"dataframe\">\n",
       "  <thead>\n",
       "    <tr style=\"text-align: right;\">\n",
       "      <th></th>\n",
       "      <th>Actual Data</th>\n",
       "      <th>Predicted Data</th>\n",
       "    </tr>\n",
       "  </thead>\n",
       "  <tbody>\n",
       "    <tr>\n",
       "      <th>0</th>\n",
       "      <td>54</td>\n",
       "      <td>49.266443</td>\n",
       "    </tr>\n",
       "    <tr>\n",
       "      <th>1</th>\n",
       "      <td>47</td>\n",
       "      <td>52.128975</td>\n",
       "    </tr>\n",
       "    <tr>\n",
       "      <th>2</th>\n",
       "      <td>27</td>\n",
       "      <td>33.999604</td>\n",
       "    </tr>\n",
       "    <tr>\n",
       "      <th>3</th>\n",
       "      <td>60</td>\n",
       "      <td>55.945685</td>\n",
       "    </tr>\n",
       "    <tr>\n",
       "      <th>4</th>\n",
       "      <td>86</td>\n",
       "      <td>77.891765</td>\n",
       "    </tr>\n",
       "  </tbody>\n",
       "</table>\n",
       "</div>"
      ],
      "text/plain": [
       "   Actual Data  Predicted Data\n",
       "0           54       49.266443\n",
       "1           47       52.128975\n",
       "2           27       33.999604\n",
       "3           60       55.945685\n",
       "4           86       77.891765"
      ]
     },
     "execution_count": 10,
     "metadata": {},
     "output_type": "execute_result"
    }
   ],
   "source": [
    "df = pd.DataFrame({\"Actual Data\": y_test, \"Predicted Data\": y_pred})\n",
    "\n",
    "# print the actual data vs predicted data\n",
    "df"
   ]
  },
  {
   "cell_type": "markdown",
   "id": "b449c0c8",
   "metadata": {},
   "source": [
    "## Eighth Step: Testing the model"
   ]
  },
  {
   "cell_type": "code",
   "execution_count": 14,
   "id": "510d8ba5",
   "metadata": {},
   "outputs": [
    {
     "name": "stdout",
     "output_type": "stream",
     "text": [
      "Number of Hours Studied : 9.25\n",
      "Predicted Score         : 91.72733677285393\n"
     ]
    }
   ],
   "source": [
    "hours = 9.25\n",
    "test = np.array([hours])\n",
    "test = test.reshape(-1,1)\n",
    "pred = reg_df.predict(test)\n",
    "\n",
    "print(\"Number of Hours Studied : {}\".format(hours))\n",
    "print(\"Predicted Score         : {}\".format(pred[0]))"
   ]
  },
  {
   "cell_type": "markdown",
   "id": "6220d081",
   "metadata": {},
   "source": [
    "# Ninth Step: Evaluate the performance of the model"
   ]
  },
  {
   "cell_type": "code",
   "execution_count": 18,
   "id": "2d28570c",
   "metadata": {},
   "outputs": [
    {
     "name": "stdout",
     "output_type": "stream",
     "text": [
      "Mean Absolute Error: 5.804937513021796\n"
     ]
    }
   ],
   "source": [
    "# find the Mean absolute error\n",
    "\n",
    "print(\"Mean Absolute Error:\", metrics.mean_absolute_error(y_test, y_pred))"
   ]
  },
  {
   "cell_type": "markdown",
   "id": "defc8eaf",
   "metadata": {},
   "source": [
    "## Tenth Step: Evaluation"
   ]
  },
  {
   "cell_type": "markdown",
   "id": "4dbf95dd",
   "metadata": {},
   "source": [
    "#### With the MAE of 5.80% we can interpret that the model is able to predict 94.2% correct results of scores achived studying number of hours."
   ]
  }
 ],
 "metadata": {
  "kernelspec": {
   "display_name": "Python 3 (ipykernel)",
   "language": "python",
   "name": "python3"
  },
  "language_info": {
   "codemirror_mode": {
    "name": "ipython",
    "version": 3
   },
   "file_extension": ".py",
   "mimetype": "text/x-python",
   "name": "python",
   "nbconvert_exporter": "python",
   "pygments_lexer": "ipython3",
   "version": "3.9.12"
  }
 },
 "nbformat": 4,
 "nbformat_minor": 5
}
